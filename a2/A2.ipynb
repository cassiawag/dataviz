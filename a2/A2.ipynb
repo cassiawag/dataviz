{
 "cells": [
  {
   "cell_type": "markdown",
   "metadata": {},
   "source": [
    "# **A2: Why would you write Yelp reviews?**\n",
    "I regularly use Yelp, especially to decide both where and what to eat. But I have always been perplexed why people would write Yelp reviews. In my mind, they seem like a public good -- which everyone demands but few are incentivized to suppy. In this assignment, I'll use a dataset of users on Yelp to explore who writes Yelp reviews and what characteristics might motivate someone to do so. \n",
    "\n",
    "## Analysis questions:\n",
    "1. How many Yelp reviews do users typically write? Are most Yelp reviews written by people who write them regularly? Or are they written by the one-off user?\n",
    "2. How does average stars given vary with number of reviews written?\n",
    "3. Do people write more reviews when they receive positive feedback?\n",
    "4. Do people write more positive reviews when they receive positive feedback?\n",
    "5. Do friends write the same types of reviews?"
   ]
  },
  {
   "cell_type": "code",
   "execution_count": 3,
   "metadata": {},
   "outputs": [],
   "source": [
    "{\n",
    "    \"tags\": [\n",
    "        \"hide-input\",\n",
    "    ]\n",
    "}\n",
    "\n",
    "import pandas as pd\n",
    "import altair as alt"
   ]
  },
  {
   "cell_type": "code",
   "execution_count": null,
   "metadata": {},
   "outputs": [],
   "source": []
  }
 ],
 "metadata": {
  "kernelspec": {
   "display_name": "nextstrain",
   "language": "python",
   "name": "nextstrain"
  },
  "language_info": {
   "codemirror_mode": {
    "name": "ipython",
    "version": 3
   },
   "file_extension": ".py",
   "mimetype": "text/x-python",
   "name": "python",
   "nbconvert_exporter": "python",
   "pygments_lexer": "ipython3",
   "version": "3.6.12"
  }
 },
 "nbformat": 4,
 "nbformat_minor": 4
}
